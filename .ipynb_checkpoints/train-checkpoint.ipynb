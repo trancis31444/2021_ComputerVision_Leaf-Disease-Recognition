{
 "cells": [
  {
   "cell_type": "code",
   "execution_count": 26,
   "metadata": {
    "scrolled": false
   },
   "outputs": [],
   "source": [
    "import os\n",
    "from tensorflow.keras.preprocessing.image import ImageDataGenerator\n",
    "import numpy as np\n",
    "import pandas as pd\n",
    "from tensorflow.keras.applications import ResNet50\n",
    "from tensorflow.keras.models import Sequential\n",
    "from tensorflow.keras import layers"
   ]
  },
  {
   "cell_type": "code",
   "execution_count": 27,
   "metadata": {},
   "outputs": [],
   "source": [
    "# 위노그라드 알고리즘 설정\n",
    "os.environ['TF_ENABLE_WINOGRAD_NONFUSED'] = '1'"
   ]
  },
  {
   "cell_type": "markdown",
   "metadata": {},
   "source": [
    "# 데이터 로드"
   ]
  },
  {
   "cell_type": "code",
   "execution_count": 28,
   "metadata": {},
   "outputs": [],
   "source": [
    "rootPath = './vision/'"
   ]
  },
  {
   "cell_type": "code",
   "execution_count": 29,
   "metadata": {},
   "outputs": [],
   "source": [
    "def get_random_eraser(p=0.5, s_l=0.02, s_h=0.4, r_1=0.3, r_2=1/0.3, v_l=0, v_h=255, pixel_level=False):\n",
    "    def eraser(input_img):\n",
    "        img_h, img_w, img_c = input_img.shape\n",
    "        p_1 = np.random.rand()\n",
    "\n",
    "        if p_1 > p:\n",
    "            return input_img\n",
    "\n",
    "        while True:\n",
    "            s = np.random.uniform(s_l, s_h) * img_h * img_w\n",
    "            r = np.random.uniform(r_1, r_2)\n",
    "            w = int(np.sqrt(s / r))\n",
    "            h = int(np.sqrt(s * r))\n",
    "            left = np.random.randint(0, img_w)\n",
    "            top = np.random.randint(0, img_h)\n",
    "\n",
    "            if left + w <= img_w and top + h <= img_h:\n",
    "                break\n",
    "\n",
    "        if pixel_level:\n",
    "            c = np.random.uniform(v_l, v_h, (h, w, img_c))\n",
    "        else:\n",
    "            c = np.random.uniform(v_l, v_h)\n",
    "\n",
    "        input_img[top:top + h, left:left + w, :] = c\n",
    "\n",
    "        return input_img\n",
    "\n",
    "    return eraser"
   ]
  },
  {
   "cell_type": "code",
   "execution_count": 30,
   "metadata": {},
   "outputs": [],
   "source": [
    "imageGenerator = ImageDataGenerator(\n",
    "    rotation_range=20,\n",
    "    horizontal_flip=True,\n",
    "    preprocessing_function = get_random_eraser(v_l=0, v_h=255),\n",
    "    validation_split=.1\n",
    ")"
   ]
  },
  {
   "cell_type": "code",
   "execution_count": 31,
   "metadata": {
    "scrolled": true
   },
   "outputs": [
    {
     "name": "stdout",
     "output_type": "stream",
     "text": [
      "Found 1157 images belonging to 3 classes.\n"
     ]
    }
   ],
   "source": [
    "trainGen = imageGenerator.flow_from_directory(\n",
    "    os.path.join(rootPath, 'training_set'),\n",
    "    target_size=(100, 100),\n",
    "    subset='training'\n",
    ")"
   ]
  },
  {
   "cell_type": "code",
   "execution_count": 32,
   "metadata": {},
   "outputs": [
    {
     "name": "stdout",
     "output_type": "stream",
     "text": [
      "Found 127 images belonging to 3 classes.\n"
     ]
    }
   ],
   "source": [
    "validationGen = imageGenerator.flow_from_directory(\n",
    "    os.path.join(rootPath, 'training_set'),\n",
    "    target_size=(100, 100),\n",
    "    subset='validation'\n",
    ")"
   ]
  },
  {
   "cell_type": "markdown",
   "metadata": {},
   "source": [
    "# 모델 구성"
   ]
  },
  {
   "cell_type": "code",
   "execution_count": 33,
   "metadata": {
    "scrolled": true
   },
   "outputs": [
    {
     "ename": "ValueError",
     "evalue": "Input size must be at least 197x197; got `input_shape=(100, 100, 3)`",
     "output_type": "error",
     "traceback": [
      "\u001b[1;31m---------------------------------------------------------------------------\u001b[0m",
      "\u001b[1;31mValueError\u001b[0m                                Traceback (most recent call last)",
      "\u001b[1;32m<ipython-input-33-9efa0efe4932>\u001b[0m in \u001b[0;36m<module>\u001b[1;34m\u001b[0m\n\u001b[0;32m      1\u001b[0m \u001b[0mmodel\u001b[0m \u001b[1;33m=\u001b[0m \u001b[0mSequential\u001b[0m\u001b[1;33m(\u001b[0m\u001b[1;33m)\u001b[0m\u001b[1;33m\u001b[0m\u001b[1;33m\u001b[0m\u001b[0m\n\u001b[1;32m----> 2\u001b[1;33m \u001b[0mmodel\u001b[0m\u001b[1;33m.\u001b[0m\u001b[0madd\u001b[0m\u001b[1;33m(\u001b[0m\u001b[0mResNet50\u001b[0m\u001b[1;33m(\u001b[0m\u001b[0minclude_top\u001b[0m\u001b[1;33m=\u001b[0m\u001b[1;32mTrue\u001b[0m\u001b[1;33m,\u001b[0m \u001b[0mweights\u001b[0m\u001b[1;33m=\u001b[0m\u001b[1;32mNone\u001b[0m\u001b[1;33m,\u001b[0m \u001b[0minput_shape\u001b[0m\u001b[1;33m=\u001b[0m\u001b[1;33m(\u001b[0m\u001b[1;36m100\u001b[0m\u001b[1;33m,\u001b[0m \u001b[1;36m100\u001b[0m\u001b[1;33m,\u001b[0m \u001b[1;36m3\u001b[0m\u001b[1;33m)\u001b[0m\u001b[1;33m,\u001b[0m \u001b[0mclasses\u001b[0m\u001b[1;33m=\u001b[0m\u001b[1;36m3\u001b[0m\u001b[1;33m)\u001b[0m\u001b[1;33m)\u001b[0m\u001b[1;33m\u001b[0m\u001b[1;33m\u001b[0m\u001b[0m\n\u001b[0m\u001b[0;32m      3\u001b[0m \u001b[1;33m\u001b[0m\u001b[0m\n\u001b[0;32m      4\u001b[0m \u001b[0mmodel\u001b[0m\u001b[1;33m.\u001b[0m\u001b[0msummary\u001b[0m\u001b[1;33m(\u001b[0m\u001b[1;33m)\u001b[0m\u001b[1;33m\u001b[0m\u001b[1;33m\u001b[0m\u001b[0m\n",
      "\u001b[1;32m~\\anaconda3\\envs\\jimin\\lib\\site-packages\\tensorflow\\python\\keras\\applications\\resnet50.py\u001b[0m in \u001b[0;36mResNet50\u001b[1;34m(include_top, weights, input_tensor, input_shape, pooling, classes)\u001b[0m\n\u001b[0;32m    224\u001b[0m       \u001b[0mdata_format\u001b[0m\u001b[1;33m=\u001b[0m\u001b[0mK\u001b[0m\u001b[1;33m.\u001b[0m\u001b[0mimage_data_format\u001b[0m\u001b[1;33m(\u001b[0m\u001b[1;33m)\u001b[0m\u001b[1;33m,\u001b[0m\u001b[1;33m\u001b[0m\u001b[1;33m\u001b[0m\u001b[0m\n\u001b[0;32m    225\u001b[0m       \u001b[0mrequire_flatten\u001b[0m\u001b[1;33m=\u001b[0m\u001b[0minclude_top\u001b[0m\u001b[1;33m,\u001b[0m\u001b[1;33m\u001b[0m\u001b[1;33m\u001b[0m\u001b[0m\n\u001b[1;32m--> 226\u001b[1;33m       weights=weights)\n\u001b[0m\u001b[0;32m    227\u001b[0m \u001b[1;33m\u001b[0m\u001b[0m\n\u001b[0;32m    228\u001b[0m   \u001b[1;32mif\u001b[0m \u001b[0minput_tensor\u001b[0m \u001b[1;32mis\u001b[0m \u001b[1;32mNone\u001b[0m\u001b[1;33m:\u001b[0m\u001b[1;33m\u001b[0m\u001b[1;33m\u001b[0m\u001b[0m\n",
      "\u001b[1;32m~\\anaconda3\\envs\\jimin\\lib\\site-packages\\tensorflow\\python\\keras\\applications\\imagenet_utils.py\u001b[0m in \u001b[0;36m_obtain_input_shape\u001b[1;34m(input_shape, default_size, min_size, data_format, require_flatten, weights)\u001b[0m\n\u001b[0;32m    323\u001b[0m           raise ValueError('Input size must be at least ' + str(min_size) +\n\u001b[0;32m    324\u001b[0m                            \u001b[1;34m'x'\u001b[0m \u001b[1;33m+\u001b[0m \u001b[0mstr\u001b[0m\u001b[1;33m(\u001b[0m\u001b[0mmin_size\u001b[0m\u001b[1;33m)\u001b[0m \u001b[1;33m+\u001b[0m \u001b[1;34m'; got '\u001b[0m\u001b[1;33m\u001b[0m\u001b[1;33m\u001b[0m\u001b[0m\n\u001b[1;32m--> 325\u001b[1;33m                            '`input_shape=' + str(input_shape) + '`')\n\u001b[0m\u001b[0;32m    326\u001b[0m   \u001b[1;32melse\u001b[0m\u001b[1;33m:\u001b[0m\u001b[1;33m\u001b[0m\u001b[1;33m\u001b[0m\u001b[0m\n\u001b[0;32m    327\u001b[0m     \u001b[1;32mif\u001b[0m \u001b[0mrequire_flatten\u001b[0m\u001b[1;33m:\u001b[0m\u001b[1;33m\u001b[0m\u001b[1;33m\u001b[0m\u001b[0m\n",
      "\u001b[1;31mValueError\u001b[0m: Input size must be at least 197x197; got `input_shape=(100, 100, 3)`"
     ]
    }
   ],
   "source": [
    "model = Sequential()\n",
    "model.add(ResNet50(include_top=True, weights=None, input_shape=(100, 100, 3), classes=3))\n",
    "\n",
    "model.summary()"
   ]
  },
  {
   "cell_type": "code",
   "execution_count": 25,
   "metadata": {},
   "outputs": [],
   "source": [
    "model.compile(\n",
    "    optimizer='adam',\n",
    "    loss='binary_crossentropy', \n",
    "    metrics=['acc'],\n",
    ")"
   ]
  },
  {
   "cell_type": "code",
   "execution_count": 26,
   "metadata": {
    "scrolled": true
   },
   "outputs": [
    {
     "name": "stderr",
     "output_type": "stream",
     "text": [
      "C:\\Users\\user\\AppData\\Roaming\\Python\\Python37\\site-packages\\keras\\engine\\training.py:1972: UserWarning: `Model.fit_generator` is deprecated and will be removed in a future version. Please use `Model.fit`, which supports generators.\n",
      "  warnings.warn('`Model.fit_generator` is deprecated and '\n"
     ]
    },
    {
     "name": "stdout",
     "output_type": "stream",
     "text": [
      "Epoch 1/150\n",
      "8/7 [===============================] - ETA: 0s - loss: 1.0476 - acc: 0.5312WARNING:tensorflow:Your input ran out of data; interrupting training. Make sure that your dataset or generator can generate at least `steps_per_epoch * epochs` batches (in this case, 7.713333333333333 batches). You may need to use the repeat() function when building your dataset.\n",
      "7/7 [==============================] - 7s 423ms/step - loss: 1.0476 - acc: 0.5312 - val_loss: 21.6339 - val_acc: 0.6535\n",
      "Epoch 2/150\n",
      "7/7 [==============================] - 2s 222ms/step - loss: 0.5709 - acc: 0.6201\n",
      "Epoch 3/150\n",
      "7/7 [==============================] - 1s 176ms/step - loss: 0.3206 - acc: 0.7773\n",
      "Epoch 4/150\n",
      "7/7 [==============================] - 1s 161ms/step - loss: 0.2569 - acc: 0.8341\n",
      "Epoch 5/150\n",
      "7/7 [==============================] - 1s 170ms/step - loss: 0.3002 - acc: 0.8203\n",
      "Epoch 6/150\n",
      "7/7 [==============================] - 1s 155ms/step - loss: 0.2522 - acc: 0.8384\n",
      "Epoch 7/150\n",
      "7/7 [==============================] - 1s 173ms/step - loss: 0.2832 - acc: 0.8398\n",
      "Epoch 8/150\n",
      "7/7 [==============================] - 1s 175ms/step - loss: 0.2646 - acc: 0.8398 0s - loss: 0.2905 - acc: \n",
      "Epoch 9/150\n",
      "7/7 [==============================] - 1s 169ms/step - loss: 0.1717 - acc: 0.8828\n",
      "Epoch 10/150\n",
      "7/7 [==============================] - 1s 174ms/step - loss: 0.2018 - acc: 0.8711\n",
      "Epoch 11/150\n",
      "7/7 [==============================] - 1s 171ms/step - loss: 0.1998 - acc: 0.8711\n",
      "Epoch 12/150\n",
      "7/7 [==============================] - 1s 169ms/step - loss: 0.2231 - acc: 0.8711\n",
      "Epoch 13/150\n",
      "7/7 [==============================] - 1s 169ms/step - loss: 0.1753 - acc: 0.8828\n",
      "Epoch 14/150\n",
      "7/7 [==============================] - 1s 175ms/step - loss: 0.1417 - acc: 0.9062\n",
      "Epoch 15/150\n",
      "7/7 [==============================] - 1s 173ms/step - loss: 0.1354 - acc: 0.9180\n",
      "Epoch 16/150\n",
      "7/7 [==============================] - 1s 176ms/step - loss: 0.1180 - acc: 0.9297\n",
      "Epoch 17/150\n",
      "7/7 [==============================] - 1s 171ms/step - loss: 0.1507 - acc: 0.9062\n",
      "Epoch 18/150\n",
      "7/7 [==============================] - 1s 168ms/step - loss: 0.1284 - acc: 0.9102\n",
      "Epoch 19/150\n",
      "7/7 [==============================] - 1s 171ms/step - loss: 0.1783 - acc: 0.8789\n",
      "Epoch 20/150\n",
      "7/7 [==============================] - 1s 166ms/step - loss: 0.1398 - acc: 0.9141\n",
      "Epoch 21/150\n",
      "7/7 [==============================] - 1s 169ms/step - loss: 0.1785 - acc: 0.8906\n",
      "Epoch 22/150\n",
      "7/7 [==============================] - 1s 170ms/step - loss: 0.1616 - acc: 0.9062\n",
      "Epoch 23/150\n",
      "7/7 [==============================] - 1s 170ms/step - loss: 0.1314 - acc: 0.9414\n",
      "Epoch 24/150\n",
      "7/7 [==============================] - 1s 167ms/step - loss: 0.1363 - acc: 0.9083\n",
      "Epoch 25/150\n",
      "7/7 [==============================] - 1s 157ms/step - loss: 0.2074 - acc: 0.8821\n",
      "Epoch 26/150\n",
      "7/7 [==============================] - 1s 162ms/step - loss: 0.2563 - acc: 0.8428\n",
      "Epoch 27/150\n",
      "7/7 [==============================] - 1s 161ms/step - loss: 0.1630 - acc: 0.8952\n",
      "Epoch 28/150\n",
      "7/7 [==============================] - 1s 168ms/step - loss: 0.1596 - acc: 0.9180\n",
      "Epoch 29/150\n",
      "7/7 [==============================] - 1s 171ms/step - loss: 0.1751 - acc: 0.8996\n",
      "Epoch 30/150\n",
      "7/7 [==============================] - 1s 164ms/step - loss: 0.1516 - acc: 0.8996\n",
      "Epoch 31/150\n",
      "7/7 [==============================] - 1s 176ms/step - loss: 0.1544 - acc: 0.8828\n",
      "Epoch 32/150\n",
      "7/7 [==============================] - 1s 173ms/step - loss: 0.1310 - acc: 0.9023\n",
      "Epoch 33/150\n",
      "7/7 [==============================] - 1s 169ms/step - loss: 0.0905 - acc: 0.9453\n",
      "Epoch 34/150\n",
      "7/7 [==============================] - 1s 168ms/step - loss: 0.1184 - acc: 0.9375\n",
      "Epoch 35/150\n",
      "7/7 [==============================] - 1s 175ms/step - loss: 0.1207 - acc: 0.9336\n",
      "Epoch 36/150\n",
      "7/7 [==============================] - 1s 159ms/step - loss: 0.1211 - acc: 0.9476\n",
      "Epoch 37/150\n",
      "7/7 [==============================] - 1s 171ms/step - loss: 0.0939 - acc: 0.9453\n",
      "Epoch 38/150\n",
      "7/7 [==============================] - 1s 176ms/step - loss: 0.0936 - acc: 0.9453\n",
      "Epoch 39/150\n",
      "7/7 [==============================] - 1s 170ms/step - loss: 0.1153 - acc: 0.9375\n",
      "Epoch 40/150\n",
      "7/7 [==============================] - 1s 178ms/step - loss: 0.1348 - acc: 0.9180\n",
      "Epoch 41/150\n",
      "7/7 [==============================] - 1s 169ms/step - loss: 0.1305 - acc: 0.9180\n",
      "Epoch 42/150\n",
      "7/7 [==============================] - 1s 172ms/step - loss: 0.0828 - acc: 0.9531\n",
      "Epoch 43/150\n",
      "7/7 [==============================] - 1s 167ms/step - loss: 0.0818 - acc: 0.9570\n",
      "Epoch 44/150\n",
      "7/7 [==============================] - 1s 160ms/step - loss: 0.1492 - acc: 0.9170\n",
      "Epoch 45/150\n",
      "7/7 [==============================] - 1s 175ms/step - loss: 0.1472 - acc: 0.9023\n",
      "Epoch 46/150\n",
      "7/7 [==============================] - 1s 172ms/step - loss: 0.1457 - acc: 0.9375\n",
      "Epoch 47/150\n",
      "7/7 [==============================] - 1s 176ms/step - loss: 0.0844 - acc: 0.9453\n",
      "Epoch 48/150\n",
      "7/7 [==============================] - 1s 160ms/step - loss: 0.1603 - acc: 0.9039\n",
      "Epoch 49/150\n",
      "7/7 [==============================] - 1s 175ms/step - loss: 0.1747 - acc: 0.8906\n",
      "Epoch 50/150\n",
      "7/7 [==============================] - 1s 171ms/step - loss: 0.1381 - acc: 0.9258\n",
      "Epoch 51/150\n",
      "7/7 [==============================] - 1s 166ms/step - loss: 0.2084 - acc: 0.8777\n",
      "Epoch 52/150\n",
      "7/7 [==============================] - 1s 171ms/step - loss: 0.1035 - acc: 0.9297\n",
      "Epoch 53/150\n",
      "7/7 [==============================] - 1s 173ms/step - loss: 0.1052 - acc: 0.9570\n",
      "Epoch 54/150\n",
      "7/7 [==============================] - 1s 176ms/step - loss: 0.1094 - acc: 0.9414\n",
      "Epoch 55/150\n",
      "7/7 [==============================] - 2s 186ms/step - loss: 0.0767 - acc: 0.9570\n",
      "Epoch 56/150\n",
      "7/7 [==============================] - 1s 174ms/step - loss: 0.1207 - acc: 0.9219\n",
      "Epoch 57/150\n",
      "7/7 [==============================] - 1s 173ms/step - loss: 0.0859 - acc: 0.9453\n",
      "Epoch 58/150\n",
      "7/7 [==============================] - 1s 158ms/step - loss: 0.0934 - acc: 0.9389\n",
      "Epoch 59/150\n",
      "7/7 [==============================] - 1s 176ms/step - loss: 0.1088 - acc: 0.9414\n",
      "Epoch 60/150\n",
      "7/7 [==============================] - 1s 176ms/step - loss: 0.1271 - acc: 0.9414\n",
      "Epoch 61/150\n",
      "7/7 [==============================] - 1s 170ms/step - loss: 0.0879 - acc: 0.9688\n",
      "Epoch 62/150\n",
      "7/7 [==============================] - 1s 157ms/step - loss: 0.1512 - acc: 0.9258\n",
      "Epoch 63/150\n",
      "7/7 [==============================] - 1s 169ms/step - loss: 0.1417 - acc: 0.9180\n",
      "Epoch 64/150\n",
      "7/7 [==============================] - 1s 166ms/step - loss: 0.1517 - acc: 0.9127\n",
      "Epoch 65/150\n",
      "7/7 [==============================] - 1s 171ms/step - loss: 0.1307 - acc: 0.9141\n",
      "Epoch 66/150\n",
      "7/7 [==============================] - 1s 158ms/step - loss: 0.1361 - acc: 0.9127\n",
      "Epoch 67/150\n",
      "7/7 [==============================] - 1s 170ms/step - loss: 0.1380 - acc: 0.9127\n",
      "Epoch 68/150\n",
      "7/7 [==============================] - 1s 172ms/step - loss: 0.1410 - acc: 0.9219\n",
      "Epoch 69/150\n",
      "7/7 [==============================] - 1s 174ms/step - loss: 0.1065 - acc: 0.9258\n",
      "Epoch 70/150\n",
      "7/7 [==============================] - 1s 179ms/step - loss: 0.1560 - acc: 0.8984\n",
      "Epoch 71/150\n",
      "7/7 [==============================] - 1s 169ms/step - loss: 0.1191 - acc: 0.9258\n",
      "Epoch 72/150\n",
      "7/7 [==============================] - 1s 177ms/step - loss: 0.1206 - acc: 0.9219\n",
      "Epoch 73/150\n",
      "7/7 [==============================] - 1s 168ms/step - loss: 0.1443 - acc: 0.9062\n",
      "Epoch 74/150\n",
      "7/7 [==============================] - 1s 171ms/step - loss: 0.1060 - acc: 0.9375\n",
      "Epoch 75/150\n",
      "7/7 [==============================] - 1s 171ms/step - loss: 0.1323 - acc: 0.9180\n",
      "Epoch 76/150\n",
      "7/7 [==============================] - 1s 171ms/step - loss: 0.1138 - acc: 0.9297\n",
      "Epoch 77/150\n",
      "7/7 [==============================] - 1s 169ms/step - loss: 0.1146 - acc: 0.9414\n",
      "Epoch 78/150\n",
      "7/7 [==============================] - 1s 171ms/step - loss: 0.0871 - acc: 0.9570\n",
      "Epoch 79/150\n",
      "7/7 [==============================] - 1s 183ms/step - loss: 0.1227 - acc: 0.9258\n",
      "Epoch 80/150\n",
      "7/7 [==============================] - 1s 173ms/step - loss: 0.1322 - acc: 0.9141\n",
      "Epoch 81/150\n",
      "7/7 [==============================] - 1s 160ms/step - loss: 0.1021 - acc: 0.9301\n",
      "Epoch 82/150\n",
      "7/7 [==============================] - 1s 172ms/step - loss: 0.0897 - acc: 0.9336\n",
      "Epoch 83/150\n",
      "7/7 [==============================] - 1s 169ms/step - loss: 0.1285 - acc: 0.9336\n",
      "Epoch 84/150\n",
      "7/7 [==============================] - 1s 171ms/step - loss: 0.0847 - acc: 0.9453\n",
      "Epoch 85/150\n",
      "7/7 [==============================] - 1s 177ms/step - loss: 0.0695 - acc: 0.9648\n",
      "Epoch 86/150\n",
      "7/7 [==============================] - 1s 166ms/step - loss: 0.1017 - acc: 0.9414\n",
      "Epoch 87/150\n",
      "7/7 [==============================] - 1s 175ms/step - loss: 0.0715 - acc: 0.9648\n",
      "Epoch 88/150\n",
      "7/7 [==============================] - 1s 153ms/step - loss: 0.1240 - acc: 0.9083\n",
      "Epoch 89/150\n",
      "7/7 [==============================] - 1s 159ms/step - loss: 0.1455 - acc: 0.9039\n",
      "Epoch 90/150\n",
      "7/7 [==============================] - 1s 176ms/step - loss: 0.1980 - acc: 0.8984\n",
      "Epoch 91/150\n",
      "7/7 [==============================] - 1s 155ms/step - loss: 0.0919 - acc: 0.9476\n",
      "Epoch 92/150\n",
      "7/7 [==============================] - 1s 170ms/step - loss: 0.0794 - acc: 0.9609\n",
      "Epoch 93/150\n",
      "7/7 [==============================] - 1s 170ms/step - loss: 0.1094 - acc: 0.9258\n",
      "Epoch 94/150\n",
      "7/7 [==============================] - 1s 175ms/step - loss: 0.0557 - acc: 0.9688\n",
      "Epoch 95/150\n",
      "7/7 [==============================] - 1s 154ms/step - loss: 0.0973 - acc: 0.9476\n",
      "Epoch 96/150\n",
      "7/7 [==============================] - 1s 173ms/step - loss: 0.1485 - acc: 0.9336\n",
      "Epoch 97/150\n",
      "7/7 [==============================] - 1s 171ms/step - loss: 0.1176 - acc: 0.9531\n",
      "Epoch 98/150\n",
      "7/7 [==============================] - 1s 164ms/step - loss: 0.1799 - acc: 0.8789\n",
      "Epoch 99/150\n",
      "7/7 [==============================] - 1s 174ms/step - loss: 0.1620 - acc: 0.9180\n",
      "Epoch 100/150\n",
      "7/7 [==============================] - 1s 155ms/step - loss: 0.1515 - acc: 0.9083\n",
      "Epoch 101/150\n",
      "7/7 [==============================] - 1s 171ms/step - loss: 0.1093 - acc: 0.9375\n",
      "Epoch 102/150\n",
      "7/7 [==============================] - 1s 175ms/step - loss: 0.0895 - acc: 0.9414\n",
      "Epoch 103/150\n",
      "7/7 [==============================] - 1s 167ms/step - loss: 0.1024 - acc: 0.9453\n",
      "Epoch 104/150\n",
      "7/7 [==============================] - 1s 172ms/step - loss: 0.1105 - acc: 0.9453\n",
      "Epoch 105/150\n",
      "7/7 [==============================] - 1s 172ms/step - loss: 0.1026 - acc: 0.9258\n",
      "Epoch 106/150\n",
      "7/7 [==============================] - 1s 168ms/step - loss: 0.1088 - acc: 0.9258\n",
      "Epoch 107/150\n",
      "7/7 [==============================] - 1s 175ms/step - loss: 0.1085 - acc: 0.9297\n",
      "Epoch 108/150\n",
      "7/7 [==============================] - 1s 173ms/step - loss: 0.0864 - acc: 0.9414\n",
      "Epoch 109/150\n",
      "7/7 [==============================] - 1s 171ms/step - loss: 0.0960 - acc: 0.9492\n",
      "Epoch 110/150\n",
      "7/7 [==============================] - 1s 176ms/step - loss: 0.1023 - acc: 0.9297\n",
      "Epoch 111/150\n",
      "7/7 [==============================] - 1s 173ms/step - loss: 0.0706 - acc: 0.9609\n",
      "Epoch 112/150\n",
      "7/7 [==============================] - 1s 178ms/step - loss: 0.0648 - acc: 0.9531\n",
      "Epoch 113/150\n",
      "7/7 [==============================] - 1s 172ms/step - loss: 0.0777 - acc: 0.9531\n",
      "Epoch 114/150\n",
      "7/7 [==============================] - 1s 156ms/step - loss: 0.1506 - acc: 0.8996\n",
      "Epoch 115/150\n",
      "7/7 [==============================] - 1s 176ms/step - loss: 0.2094 - acc: 0.8734\n",
      "Epoch 116/150\n",
      "7/7 [==============================]] - ETA: 0s - loss: 0.1590 - acc: 0.89 - 1s 173ms/step - loss: 0.1590 - acc: 0.8945\n",
      "Epoch 117/150\n",
      "7/7 [==============================] - 1s 168ms/step - loss: 0.1390 - acc: 0.9219\n",
      "Epoch 118/150\n",
      "7/7 [==============================] - 1s 173ms/step - loss: 0.1133 - acc: 0.9414\n",
      "Epoch 119/150\n",
      "7/7 [==============================] - 1s 179ms/step - loss: 0.0803 - acc: 0.9609\n",
      "Epoch 120/150\n",
      "7/7 [==============================] - 1s 184ms/step - loss: 0.0895 - acc: 0.9531\n",
      "Epoch 121/150\n",
      "7/7 [==============================] - 1s 163ms/step - loss: 0.0758 - acc: 0.9607\n",
      "Epoch 122/150\n",
      "7/7 [==============================] - 1s 175ms/step - loss: 0.1108 - acc: 0.9180\n",
      "Epoch 123/150\n",
      "7/7 [==============================] - 1s 154ms/step - loss: 0.0868 - acc: 0.9476\n",
      "Epoch 124/150\n",
      "7/7 [==============================] - 1s 177ms/step - loss: 0.0891 - acc: 0.9570\n",
      "Epoch 125/150\n",
      "7/7 [==============================] - 1s 177ms/step - loss: 0.0745 - acc: 0.9688\n",
      "Epoch 126/150\n",
      "7/7 [==============================] - 1s 177ms/step - loss: 0.0583 - acc: 0.9648\n",
      "Epoch 127/150\n",
      "7/7 [==============================] - 1s 168ms/step - loss: 0.0538 - acc: 0.9570\n",
      "Epoch 128/150\n",
      "7/7 [==============================] - 1s 173ms/step - loss: 0.0825 - acc: 0.9375\n",
      "Epoch 129/150\n",
      "7/7 [==============================] - 1s 175ms/step - loss: 0.0819 - acc: 0.9531\n",
      "Epoch 130/150\n",
      "7/7 [==============================] - 1s 154ms/step - loss: 0.0586 - acc: 0.9738\n",
      "Epoch 131/150\n",
      "7/7 [==============================] - 1s 175ms/step - loss: 0.0585 - acc: 0.9766\n",
      "Epoch 132/150\n",
      "7/7 [==============================] - 1s 178ms/step - loss: 0.0874 - acc: 0.9414\n",
      "Epoch 133/150\n",
      "7/7 [==============================] - 1s 167ms/step - loss: 0.1455 - acc: 0.9023\n",
      "Epoch 134/150\n",
      "7/7 [==============================] - 1s 174ms/step - loss: 0.0875 - acc: 0.9531\n",
      "Epoch 135/150\n",
      "7/7 [==============================] - 1s 170ms/step - loss: 0.1107 - acc: 0.9297\n",
      "Epoch 136/150\n",
      "7/7 [==============================] - 1s 169ms/step - loss: 0.0855 - acc: 0.9570\n",
      "Epoch 137/150\n",
      "7/7 [==============================] - 1s 165ms/step - loss: 0.0719 - acc: 0.9648\n",
      "Epoch 138/150\n",
      "7/7 [==============================] - 1s 167ms/step - loss: 0.0645 - acc: 0.9688\n",
      "Epoch 139/150\n",
      "7/7 [==============================] - 1s 173ms/step - loss: 0.0877 - acc: 0.9492\n",
      "Epoch 140/150\n",
      "7/7 [==============================] - 1s 176ms/step - loss: 0.0685 - acc: 0.9648\n",
      "Epoch 141/150\n",
      "7/7 [==============================] - 1s 169ms/step - loss: 0.0654 - acc: 0.9648\n",
      "Epoch 142/150\n",
      "7/7 [==============================] - 1s 166ms/step - loss: 0.1647 - acc: 0.9375\n",
      "Epoch 143/150\n",
      "7/7 [==============================] - 1s 168ms/step - loss: 0.0758 - acc: 0.9570\n",
      "Epoch 144/150\n",
      "7/7 [==============================] - 1s 170ms/step - loss: 0.0761 - acc: 0.9570\n",
      "Epoch 145/150\n",
      "7/7 [==============================] - 1s 168ms/step - loss: 0.0902 - acc: 0.9336\n",
      "Epoch 146/150\n",
      "7/7 [==============================] - 1s 173ms/step - loss: 0.0647 - acc: 0.9727\n",
      "Epoch 147/150\n",
      "7/7 [==============================] - 1s 171ms/step - loss: 0.0554 - acc: 0.9766\n",
      "Epoch 148/150\n",
      "7/7 [==============================]] - ETA: 0s - loss: 0.0362 - acc: 0.98 - 1s 170ms/step - loss: 0.0362 - acc: 0.9844\n",
      "Epoch 149/150\n",
      "7/7 [==============================] - 1s 174ms/step - loss: 0.0810 - acc: 0.9531\n",
      "Epoch 150/150\n",
      "7/7 [==============================] - 1s 170ms/step - loss: 0.0481 - acc: 0.9648\n"
     ]
    }
   ],
   "source": [
    "epochs = 150\n",
    "history = model.fit_generator(\n",
    "    trainGen, \n",
    "    epochs=epochs,\n",
    "    steps_per_epoch=trainGen.samples / epochs, \n",
    "    validation_data=validationGen,\n",
    "    validation_steps=trainGen.samples / epochs,\n",
    ")"
   ]
  },
  {
   "cell_type": "markdown",
   "metadata": {},
   "source": [
    "# 평가"
   ]
  },
  {
   "cell_type": "code",
   "execution_count": 37,
   "metadata": {},
   "outputs": [
    {
     "name": "stdout",
     "output_type": "stream",
     "text": [
      "Found 15 images belonging to 3 classes.\n"
     ]
    }
   ],
   "source": [
    "testGen = imageGenerator.flow_from_directory(\n",
    "    os.path.join(rootPath, 'test_set'),\n",
    "    target_size=(100, 100),\n",
    ")"
   ]
  },
  {
   "cell_type": "code",
   "execution_count": 38,
   "metadata": {
    "scrolled": true
   },
   "outputs": [
    {
     "ename": "ValueError",
     "evalue": "Please provide as model inputs either a single array or a list of arrays. You passed: x=<tensorflow.python.keras.preprocessing.image.DirectoryIterator object at 0x0000019136749128>",
     "output_type": "error",
     "traceback": [
      "\u001b[1;31m---------------------------------------------------------------------------\u001b[0m",
      "\u001b[1;31mValueError\u001b[0m                                Traceback (most recent call last)",
      "\u001b[1;32m<ipython-input-38-b57b72f649dd>\u001b[0m in \u001b[0;36m<module>\u001b[1;34m\u001b[0m\n\u001b[1;32m----> 1\u001b[1;33m \u001b[0mpred\u001b[0m \u001b[1;33m=\u001b[0m \u001b[0mmodel\u001b[0m\u001b[1;33m.\u001b[0m\u001b[0mpredict\u001b[0m\u001b[1;33m(\u001b[0m\u001b[0mtestGen\u001b[0m\u001b[1;33m)\u001b[0m\u001b[1;33m\u001b[0m\u001b[1;33m\u001b[0m\u001b[0m\n\u001b[0m",
      "\u001b[1;32m~\\anaconda3\\envs\\jimin\\lib\\site-packages\\tensorflow\\python\\keras\\engine\\training.py\u001b[0m in \u001b[0;36mpredict\u001b[1;34m(self, x, batch_size, verbose, steps)\u001b[0m\n\u001b[0;32m   1469\u001b[0m     \u001b[1;31m# Validate and standardize user data.\u001b[0m\u001b[1;33m\u001b[0m\u001b[1;33m\u001b[0m\u001b[1;33m\u001b[0m\u001b[0m\n\u001b[0;32m   1470\u001b[0m     x, _, _ = self._standardize_user_data(\n\u001b[1;32m-> 1471\u001b[1;33m         x, check_steps=True, steps_name='steps', steps=steps)\n\u001b[0m\u001b[0;32m   1472\u001b[0m \u001b[1;33m\u001b[0m\u001b[0m\n\u001b[0;32m   1473\u001b[0m     \u001b[1;32mif\u001b[0m \u001b[0mcontext\u001b[0m\u001b[1;33m.\u001b[0m\u001b[0mexecuting_eagerly\u001b[0m\u001b[1;33m(\u001b[0m\u001b[1;33m)\u001b[0m\u001b[1;33m:\u001b[0m\u001b[1;33m\u001b[0m\u001b[1;33m\u001b[0m\u001b[0m\n",
      "\u001b[1;32m~\\anaconda3\\envs\\jimin\\lib\\site-packages\\tensorflow\\python\\keras\\engine\\training.py\u001b[0m in \u001b[0;36m_standardize_user_data\u001b[1;34m(self, x, y, sample_weight, class_weight, batch_size, check_steps, steps_name, steps, validation_split)\u001b[0m\n\u001b[0;32m    775\u001b[0m         \u001b[1;32mif\u001b[0m \u001b[1;32mnot\u001b[0m \u001b[0misinstance\u001b[0m\u001b[1;33m(\u001b[0m\u001b[0mx\u001b[0m\u001b[1;33m,\u001b[0m \u001b[0mnp\u001b[0m\u001b[1;33m.\u001b[0m\u001b[0mndarray\u001b[0m\u001b[1;33m)\u001b[0m \u001b[1;32mand\u001b[0m \u001b[1;32mnot\u001b[0m \u001b[0mtensor_util\u001b[0m\u001b[1;33m.\u001b[0m\u001b[0mis_tensor\u001b[0m\u001b[1;33m(\u001b[0m\u001b[0mx\u001b[0m\u001b[1;33m)\u001b[0m\u001b[1;33m:\u001b[0m\u001b[1;33m\u001b[0m\u001b[1;33m\u001b[0m\u001b[0m\n\u001b[0;32m    776\u001b[0m           raise ValueError('Please provide as model inputs either a single '\n\u001b[1;32m--> 777\u001b[1;33m                            'array or a list of arrays. You passed: x=' + str(x))\n\u001b[0m\u001b[0;32m    778\u001b[0m         \u001b[0mall_inputs\u001b[0m\u001b[1;33m.\u001b[0m\u001b[0mappend\u001b[0m\u001b[1;33m(\u001b[0m\u001b[0mx\u001b[0m\u001b[1;33m)\u001b[0m\u001b[1;33m\u001b[0m\u001b[1;33m\u001b[0m\u001b[0m\n\u001b[0;32m    779\u001b[0m \u001b[1;33m\u001b[0m\u001b[0m\n",
      "\u001b[1;31mValueError\u001b[0m: Please provide as model inputs either a single array or a list of arrays. You passed: x=<tensorflow.python.keras.preprocessing.image.DirectoryIterator object at 0x0000019136749128>"
     ]
    }
   ],
   "source": [
    "pred = model.predict(testGen)"
   ]
  },
  {
   "cell_type": "code",
   "execution_count": 39,
   "metadata": {},
   "outputs": [],
   "source": [
    "img_list = testGen.filenames"
   ]
  },
  {
   "cell_type": "code",
   "execution_count": null,
   "metadata": {},
   "outputs": [],
   "source": [
    "pred_list = []\n",
    "for i in range(len(pred)):\n",
    "    pred_list.append(np.argmax(pred[i]))"
   ]
  },
  {
   "cell_type": "code",
   "execution_count": null,
   "metadata": {},
   "outputs": [],
   "source": [
    "df = pd.DataFrame(list(zip(img_list, pred_list)), columns =['Name', 'pred'])"
   ]
  },
  {
   "cell_type": "code",
   "execution_count": null,
   "metadata": {},
   "outputs": [],
   "source": [
    "df.to_csv('submission.csv', index=False)"
   ]
  },
  {
   "cell_type": "code",
   "execution_count": 36,
   "metadata": {},
   "outputs": [
    {
     "ename": "NameError",
     "evalue": "name 'testGen' is not defined",
     "output_type": "error",
     "traceback": [
      "\u001b[1;31m---------------------------------------------------------------------------\u001b[0m",
      "\u001b[1;31mNameError\u001b[0m                                 Traceback (most recent call last)",
      "\u001b[1;32m<ipython-input-36-685b45b553d7>\u001b[0m in \u001b[0;36m<module>\u001b[1;34m\u001b[0m\n\u001b[1;32m----> 1\u001b[1;33m \u001b[0mprint\u001b[0m\u001b[1;33m(\u001b[0m\u001b[1;34m\"정확도 :\"\u001b[0m\u001b[1;33m,\u001b[0m \u001b[0mmodel\u001b[0m\u001b[1;33m.\u001b[0m\u001b[0mevaluate_generator\u001b[0m\u001b[1;33m(\u001b[0m\u001b[0mtestGen\u001b[0m\u001b[1;33m)\u001b[0m\u001b[1;33m)\u001b[0m\u001b[1;33m[\u001b[0m\u001b[1;36m1\u001b[0m\u001b[1;33m]\u001b[0m\u001b[1;33m\u001b[0m\u001b[1;33m\u001b[0m\u001b[0m\n\u001b[0m",
      "\u001b[1;31mNameError\u001b[0m: name 'testGen' is not defined"
     ]
    }
   ],
   "source": [
    "print(\"정확도 :\", model.evaluate_generator(testGen))[1]"
   ]
  },
  {
   "cell_type": "code",
   "execution_count": null,
   "metadata": {},
   "outputs": [],
   "source": []
  }
 ],
 "metadata": {
  "kernelspec": {
   "display_name": "jimin",
   "language": "python",
   "name": "jimin"
  },
  "language_info": {
   "codemirror_mode": {
    "name": "ipython",
    "version": 3
   },
   "file_extension": ".py",
   "mimetype": "text/x-python",
   "name": "python",
   "nbconvert_exporter": "python",
   "pygments_lexer": "ipython3",
   "version": "3.6.13"
  }
 },
 "nbformat": 4,
 "nbformat_minor": 4
}
